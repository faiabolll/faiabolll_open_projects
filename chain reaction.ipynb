{
 "cells": [
  {
   "cell_type": "markdown",
   "metadata": {},
   "source": [
    "# Загружаем данные"
   ]
  },
  {
   "cell_type": "code",
   "execution_count": 1,
   "metadata": {},
   "outputs": [],
   "source": [
    "import pandas as pd\n",
    "import numpy as np\n",
    "\n",
    "orig_data = pd.read_excel('Plan_Lib.xlsx')\n",
    "data = orig_data.copy()"
   ]
  },
  {
   "cell_type": "code",
   "execution_count": 2,
   "metadata": {},
   "outputs": [
    {
     "data": {
      "text/html": [
       "<div>\n",
       "<style scoped>\n",
       "    .dataframe tbody tr th:only-of-type {\n",
       "        vertical-align: middle;\n",
       "    }\n",
       "\n",
       "    .dataframe tbody tr th {\n",
       "        vertical-align: top;\n",
       "    }\n",
       "\n",
       "    .dataframe thead th {\n",
       "        text-align: right;\n",
       "    }\n",
       "</style>\n",
       "<table border=\"1\" class=\"dataframe\">\n",
       "  <thead>\n",
       "    <tr style=\"text-align: right;\">\n",
       "      <th></th>\n",
       "      <th>Код товара</th>\n",
       "      <th>Старый код</th>\n",
       "      <th>Наименование товара ENG</th>\n",
       "      <th>Наименование товара</th>\n",
       "      <th>Food/HPC</th>\n",
       "      <th>Подкатегория</th>\n",
       "      <th>Категория</th>\n",
       "      <th>Маркет</th>\n",
       "      <th>Бренд</th>\n",
       "      <th>Сектор</th>\n",
       "      <th>...</th>\n",
       "      <th>Ветподнадзорность</th>\n",
       "      <th>ТН ВЭД</th>\n",
       "      <th>Вложимость в брикет</th>\n",
       "      <th>Штрих код брикета</th>\n",
       "      <th>Вес брикета (кг)</th>\n",
       "      <th>Высота брикета, мм</th>\n",
       "      <th>Длинна брикета, мм</th>\n",
       "      <th>Ширина брикета, мм</th>\n",
       "      <th>MatDescUA</th>\n",
       "      <th>MaterialGroup2</th>\n",
       "    </tr>\n",
       "  </thead>\n",
       "  <tbody>\n",
       "    <tr>\n",
       "      <th>0</th>\n",
       "      <td>1</td>\n",
       "      <td>2</td>\n",
       "      <td>3</td>\n",
       "      <td>4</td>\n",
       "      <td>5</td>\n",
       "      <td>6</td>\n",
       "      <td>7</td>\n",
       "      <td>8</td>\n",
       "      <td>9</td>\n",
       "      <td>10</td>\n",
       "      <td>...</td>\n",
       "      <td>74</td>\n",
       "      <td>75</td>\n",
       "      <td>76</td>\n",
       "      <td>77</td>\n",
       "      <td>78</td>\n",
       "      <td>79</td>\n",
       "      <td>80</td>\n",
       "      <td>81</td>\n",
       "      <td>82</td>\n",
       "      <td>83</td>\n",
       "    </tr>\n",
       "    <tr>\n",
       "      <th>1</th>\n",
       "      <td>Item Code</td>\n",
       "      <td>Old Item Code</td>\n",
       "      <td>Item Name</td>\n",
       "      <td>Item Name Rus</td>\n",
       "      <td>Division</td>\n",
       "      <td>SubDivision</td>\n",
       "      <td>Category</td>\n",
       "      <td>Market</td>\n",
       "      <td>Brand</td>\n",
       "      <td>Sector</td>\n",
       "      <td>...</td>\n",
       "      <td>Veterinary</td>\n",
       "      <td>Commodity Code</td>\n",
       "      <td>SHRINKin</td>\n",
       "      <td>EANUPC</td>\n",
       "      <td>SHR_Sum of GrossweightKG</td>\n",
       "      <td>SHR_Sum of Height</td>\n",
       "      <td>SHR_Sum of Length</td>\n",
       "      <td>SHR_Sum of Width</td>\n",
       "      <td>MatDescUA</td>\n",
       "      <td>MaterialGroup2</td>\n",
       "    </tr>\n",
       "    <tr>\n",
       "      <th>2</th>\n",
       "      <td>20086134</td>\n",
       "      <td>8607178</td>\n",
       "      <td>TIMOTEI COND GUARAN -U- 12X200ML</td>\n",
       "      <td>TIMOTEI БАЛЬЗАМ-ОПОЛАСКИВАТЕЛЬ РОСКОШНЫЙ ОБЪЕМ...</td>\n",
       "      <td>BEAUTY &amp; PERSONAL CARE</td>\n",
       "      <td>BEAUTY &amp; PERSONAL CARE EXCL SKIN</td>\n",
       "      <td>HAIR CARE</td>\n",
       "      <td>WASH &amp; CARE</td>\n",
       "      <td>TIMOTEI</td>\n",
       "      <td>CONDITIONER</td>\n",
       "      <td>...</td>\n",
       "      <td>NaN</td>\n",
       "      <td>3305900009</td>\n",
       "      <td>6</td>\n",
       "      <td>4605922019138</td>\n",
       "      <td>0</td>\n",
       "      <td>0</td>\n",
       "      <td>0</td>\n",
       "      <td>0</td>\n",
       "      <td>TIMOTEI Б/ОП РОЗКІШНИЙ ОБ'ЄМ 200МЛ</td>\n",
       "      <td>CLEANER</td>\n",
       "    </tr>\n",
       "    <tr>\n",
       "      <th>3</th>\n",
       "      <td>20086136</td>\n",
       "      <td>8607189</td>\n",
       "      <td>TIMOTEI COND AVOKAD -U- 12X200ML</td>\n",
       "      <td>TIMOTEI БАЛЬЗАМ-ОПОЛАСКИВАТЕЛЬ ИНТЕНСИВНОЕ ВОС...</td>\n",
       "      <td>BEAUTY &amp; PERSONAL CARE</td>\n",
       "      <td>BEAUTY &amp; PERSONAL CARE EXCL SKIN</td>\n",
       "      <td>HAIR CARE</td>\n",
       "      <td>WASH &amp; CARE</td>\n",
       "      <td>TIMOTEI</td>\n",
       "      <td>CONDITIONER</td>\n",
       "      <td>...</td>\n",
       "      <td>NaN</td>\n",
       "      <td>3305900009</td>\n",
       "      <td>6</td>\n",
       "      <td>4605922019145</td>\n",
       "      <td>0</td>\n",
       "      <td>0</td>\n",
       "      <td>0</td>\n",
       "      <td>0</td>\n",
       "      <td>TIMOTEI Б/ОП ІНТЕНСИВНЕ ВІДНОВ 200МЛ</td>\n",
       "      <td>CLEANER</td>\n",
       "    </tr>\n",
       "    <tr>\n",
       "      <th>4</th>\n",
       "      <td>20277867</td>\n",
       "      <td>8780763</td>\n",
       "      <td>DOVE SHEA BUTTER BAR SOAP 48X135G</td>\n",
       "      <td>DOVE КРЕМ-МЫЛО ОБЪЯТИЯ НЕЖНОСТИ 135Г</td>\n",
       "      <td>BEAUTY &amp; PERSONAL CARE</td>\n",
       "      <td>SKIN</td>\n",
       "      <td>SKIN CLEANSING</td>\n",
       "      <td>SKIN CLEANSING</td>\n",
       "      <td>DOVE</td>\n",
       "      <td>SKIN CLEANSING BAR</td>\n",
       "      <td>...</td>\n",
       "      <td>NaN</td>\n",
       "      <td>3401110001</td>\n",
       "      <td>NaN</td>\n",
       "      <td>NaN</td>\n",
       "      <td>0</td>\n",
       "      <td>0</td>\n",
       "      <td>0</td>\n",
       "      <td>0</td>\n",
       "      <td>DOVE КРЕМ-МИЛО ОБІЙМИ НІЖНОСТІ 135Г</td>\n",
       "      <td>SOAPTAB</td>\n",
       "    </tr>\n",
       "  </tbody>\n",
       "</table>\n",
       "<p>5 rows × 83 columns</p>\n",
       "</div>"
      ],
      "text/plain": [
       "  Код товара     Старый код            Наименование товара ENG  \\\n",
       "0          1              2                                  3   \n",
       "1  Item Code  Old Item Code                          Item Name   \n",
       "2   20086134        8607178   TIMOTEI COND GUARAN -U- 12X200ML   \n",
       "3   20086136        8607189   TIMOTEI COND AVOKAD -U- 12X200ML   \n",
       "4   20277867        8780763  DOVE SHEA BUTTER BAR SOAP 48X135G   \n",
       "\n",
       "                                 Наименование товара                Food/HPC  \\\n",
       "0                                                  4                       5   \n",
       "1                                      Item Name Rus                Division   \n",
       "2  TIMOTEI БАЛЬЗАМ-ОПОЛАСКИВАТЕЛЬ РОСКОШНЫЙ ОБЪЕМ...  BEAUTY & PERSONAL CARE   \n",
       "3  TIMOTEI БАЛЬЗАМ-ОПОЛАСКИВАТЕЛЬ ИНТЕНСИВНОЕ ВОС...  BEAUTY & PERSONAL CARE   \n",
       "4               DOVE КРЕМ-МЫЛО ОБЪЯТИЯ НЕЖНОСТИ 135Г  BEAUTY & PERSONAL CARE   \n",
       "\n",
       "                       Подкатегория       Категория          Маркет    Бренд  \\\n",
       "0                                 6               7               8        9   \n",
       "1                       SubDivision        Category          Market    Brand   \n",
       "2  BEAUTY & PERSONAL CARE EXCL SKIN       HAIR CARE     WASH & CARE  TIMOTEI   \n",
       "3  BEAUTY & PERSONAL CARE EXCL SKIN       HAIR CARE     WASH & CARE  TIMOTEI   \n",
       "4                              SKIN  SKIN CLEANSING  SKIN CLEANSING     DOVE   \n",
       "\n",
       "               Сектор  ... Ветподнадзорность          ТН ВЭД  \\\n",
       "0                  10  ...                74              75   \n",
       "1              Sector  ...        Veterinary  Commodity Code   \n",
       "2         CONDITIONER  ...               NaN      3305900009   \n",
       "3         CONDITIONER  ...               NaN      3305900009   \n",
       "4  SKIN CLEANSING BAR  ...               NaN      3401110001   \n",
       "\n",
       "  Вложимость в брикет   Штрих код брикета          Вес брикета (кг)  \\\n",
       "0                  76                  77                        78   \n",
       "1            SHRINKin   EANUPC             SHR_Sum of GrossweightKG   \n",
       "2                   6  4605922019138                              0   \n",
       "3                   6  4605922019145                              0   \n",
       "4                 NaN                 NaN                         0   \n",
       "\n",
       "  Высота брикета, мм Длинна брикета, мм Ширина брикета, мм  \\\n",
       "0                 79                 80                 81   \n",
       "1  SHR_Sum of Height  SHR_Sum of Length   SHR_Sum of Width   \n",
       "2                  0                  0                  0   \n",
       "3                  0                  0                  0   \n",
       "4                  0                  0                  0   \n",
       "\n",
       "                              MatDescUA  MaterialGroup2  \n",
       "0                                    82              83  \n",
       "1                             MatDescUA  MaterialGroup2  \n",
       "2    TIMOTEI Б/ОП РОЗКІШНИЙ ОБ'ЄМ 200МЛ         CLEANER  \n",
       "3  TIMOTEI Б/ОП ІНТЕНСИВНЕ ВІДНОВ 200МЛ         CLEANER  \n",
       "4   DOVE КРЕМ-МИЛО ОБІЙМИ НІЖНОСТІ 135Г         SOAPTAB  \n",
       "\n",
       "[5 rows x 83 columns]"
      ]
     },
     "execution_count": 2,
     "metadata": {},
     "output_type": "execute_result"
    }
   ],
   "source": [
    "data.head()"
   ]
  },
  {
   "cell_type": "code",
   "execution_count": 3,
   "metadata": {
    "scrolled": true
   },
   "outputs": [
    {
     "name": "stdout",
     "output_type": "stream",
     "text": [
      "2    20086134\n",
      "Name: Код товара, dtype: object \n",
      "\n",
      "2    8607178\n",
      "Name: Старый код, dtype: object \n",
      "\n",
      "2    TIMOTEI COND GUARAN -U- 12X200ML\n",
      "Name: Наименование товара ENG, dtype: object \n",
      "\n",
      "2    TIMOTEI БАЛЬЗАМ-ОПОЛАСКИВАТЕЛЬ РОСКОШНЫЙ ОБЪЕМ...\n",
      "Name: Наименование товара, dtype: object \n",
      "\n",
      "2    BEAUTY & PERSONAL CARE\n",
      "Name: Food/HPC, dtype: object \n",
      "\n",
      "2    BEAUTY & PERSONAL CARE EXCL SKIN\n",
      "Name: Подкатегория, dtype: object \n",
      "\n",
      "2    HAIR CARE\n",
      "Name: Категория, dtype: object \n",
      "\n",
      "2    WASH & CARE\n",
      "Name: Маркет, dtype: object \n",
      "\n",
      "2    TIMOTEI\n",
      "Name: Бренд, dtype: object \n",
      "\n",
      "2    CONDITIONER\n",
      "Name: Сектор, dtype: object \n",
      "\n",
      "2    TIMOTEI REG RINSE OUT COND\n",
      "Name: Бренд Вариант, dtype: object \n",
      "\n",
      "2    TIMOTEI CONDITIONER REG RSE OT GUARAN\n",
      "Name: СабБренд, dtype: object \n",
      "\n",
      "2    441741087B7075801\n",
      "Name: Код Бейспака, dtype: object \n",
      "\n",
      "2    TIMOTEI CONDITIONER RRO GUARAN 200ML\n",
      "Name: Наименование Бейспака, dtype: object \n",
      "\n",
      "2    RUH0901\n",
      "Name: DFG, dtype: object \n",
      "\n",
      "2    TIMOTEI COND 250ML\n",
      "Name: Наименование DFG, dtype: object \n",
      "\n",
      "2    12\n",
      "Name: Шт в Коробе, dtype: object \n",
      "\n",
      "2    12\n",
      "Name: Шт в Коробе.1, dtype: object \n",
      "\n",
      "2    200\n",
      "Name: Вес ШТ нетто (г), dtype: object \n",
      "\n",
      "2    2.4\n",
      "Name: Вес Короба нетто (кг), dtype: object \n",
      "\n",
      "2    208\n",
      "Name: Коробов на Паллете, dtype: object \n",
      "\n",
      "2    499.2\n",
      "Name: Вес Паллеты нетто (кг), dtype: object \n",
      "\n",
      "2    600.08\n",
      "Name: Вес Паллеты брутто (кг), dtype: object \n",
      "\n",
      "2    1551\n",
      "Name: Высота Паллеты (мм), dtype: object \n",
      "\n",
      "2    2496\n",
      "Name: ШТ на Паллете, dtype: object \n",
      "\n",
      "2    26\n",
      "Name: Коробов в слое, dtype: object \n",
      "\n",
      "2    8\n",
      "Name: Слоев на Паллете, dtype: object \n",
      "\n",
      "2    912\n",
      "Name: Срок Годности, дней, dtype: object \n",
      "\n",
      "2    8718114402116\n",
      "Name: EAN ШТ, dtype: object \n",
      "\n",
      "2    8718114402123\n",
      "Name: EAN Короба, dtype: object \n",
      "\n",
      "2    8718114402130\n",
      "Name: Штрихкод Паллеты RU, dtype: object \n",
      "\n",
      "2    8718114402130\n",
      "Name: Штрихкод Паллеты UA, dtype: object \n",
      "\n",
      "2    2885\n",
      "Name: Вес Короба брутто (г), dtype: object \n",
      "\n",
      "2    2.885\n",
      "Name: Вес Короба брутто (кг), dtype: object \n",
      "\n",
      "2    235\n",
      "Name: Длина короба (мм), dtype: object \n",
      "\n",
      "2    149\n",
      "Name: Ширина короба (мм), dtype: object \n",
      "\n",
      "2    176\n",
      "Name: Высота короба (мм), dtype: object \n",
      "\n",
      "2    0.468144\n",
      "Name: Плотность короба, dtype: object \n",
      "\n",
      "2    229\n",
      "Name: Вес ШТ брутто (г), dtype: object \n",
      "\n",
      "2    0.229\n",
      "Name: Вес ШТ брутто (кг), dtype: object \n",
      "\n",
      "2    35\n",
      "Name: Длина ШТ (мм), dtype: object \n",
      "\n",
      "2    68\n",
      "Name: Ширина ШТ (мм), dtype: object \n",
      "\n",
      "2    159\n",
      "Name: Высота ШТ (мм), dtype: object \n",
      "\n",
      "2    0.605148\n",
      "Name: Плотность ШТ, dtype: object \n",
      "\n",
      "2    C\n",
      "Name: АВС индикатор, dtype: object \n",
      "\n",
      "2    Regular\n",
      "Name: Промо статус, dtype: object \n",
      "\n",
      "2    RU\n",
      "Name: Страна происхождения, dtype: object \n",
      "\n",
      "2    20086134\n",
      "Name: Код Товара, dtype: object \n",
      "\n",
      "2    HAIR CARE\n",
      "Name: Категория.1, dtype: object \n",
      "\n",
      "2    UL\n",
      "Name: ULKL, dtype: object \n",
      "\n",
      "2    WASH & CARE\n",
      "Name: Market, dtype: object \n",
      "\n",
      "2    H0949\n",
      "Name: CBU Code, dtype: object \n",
      "\n",
      "2    Timotei Conditioner Guaran Sunrise 200\n",
      "Name: CBU Name En, dtype: object \n",
      "\n",
      "2    Timotei бал-оп 200 Роскошный объем\n",
      "Name: CBU Long Name Ru, dtype: object \n",
      "\n",
      "2    441741087B7075801\n",
      "Name: Basepack APO, dtype: object \n",
      "\n",
      "2    TIMOTEI CONDITIONER RRO GUARAN 200ML\n",
      "Name: Basepack Name APO, dtype: object \n",
      "\n",
      "2    NaN\n",
      "Name: FS, dtype: object \n",
      "\n",
      "2    COC\n",
      "Name: RUCoC, dtype: object \n",
      "\n",
      "2    NaN\n",
      "Name: UACoC, dtype: object \n",
      "\n",
      "2    1200\n",
      "Name: Pal_Length, dtype: object \n",
      "\n",
      "2    800\n",
      "Name: Pal_Width, dtype: object \n",
      "\n",
      "2    6162.64\n",
      "Name: CS_Volume, dtype: object \n",
      "\n",
      "2    378.42\n",
      "Name: PC_Volume, dtype: object \n",
      "\n",
      "2    H4\n",
      "Name: TEMPB, dtype: object \n",
      "\n",
      "2    0.2\n",
      "Name: VolL, dtype: object \n",
      "\n",
      "2    H0949\n",
      "Name: CBU Code.1, dtype: object \n",
      "\n",
      "2    TIMOTEI REG RINSE OUT COND\n",
      "Name: CorporateProductGrouping, dtype: object \n",
      "\n",
      "2    Tim б/оп 200 Роскош объем\n",
      "Name: CBU Short Name Ru, dtype: object \n",
      "\n",
      "2    Tim б/оп 200 Роскош объем\n",
      "Name: Short Name Ru, dtype: object \n",
      "\n",
      "2    ACTIVE\n",
      "Name: RUStatus, dtype: object \n",
      "\n",
      "2    Obsolete\n",
      "Name: UAStatus, dtype: object \n",
      "\n",
      "2    NaN\n",
      "Name: Вложимость в трей, dtype: object \n",
      "\n",
      "2    0.2\n",
      "Name: НДС РФ, dtype: object \n",
      "\n",
      "2    NaN\n",
      "Name: Ветподнадзорность, dtype: object \n",
      "\n",
      "2    3305900009\n",
      "Name: ТН ВЭД, dtype: object \n",
      "\n",
      "2    6\n",
      "Name: Вложимость в брикет, dtype: object \n",
      "\n",
      "2    4605922019138     \n",
      "Name: Штрих код брикета, dtype: object \n",
      "\n",
      "2    0\n",
      "Name: Вес брикета (кг), dtype: object \n",
      "\n",
      "2    0\n",
      "Name: Высота брикета, мм, dtype: object \n",
      "\n",
      "2    0\n",
      "Name: Длинна брикета, мм, dtype: object \n",
      "\n",
      "2    0\n",
      "Name: Ширина брикета, мм, dtype: object \n",
      "\n",
      "2    TIMOTEI Б/ОП РОЗКІШНИЙ ОБ'ЄМ 200МЛ\n",
      "Name: MatDescUA, dtype: object \n",
      "\n",
      "2    CLEANER\n",
      "Name: MaterialGroup2, dtype: object \n",
      "\n"
     ]
    }
   ],
   "source": [
    "for col in data.columns:\n",
    "    print(data[2:3][col], '\\n')"
   ]
  },
  {
   "cell_type": "markdown",
   "metadata": {},
   "source": [
    "### В качестве метрики \"оптимальности\" паллетизации будем рассматривать разницу между объёмом всего паллета и объёмом, занимаемым коробами, т.е. количество перевозимого воздуха - наша целевая переменная. Соотвественно параметры, определяющие нашу целевую переменную должны быть связаны с размерами и массами коробов, упаковок продуктов и паллетов\n",
    "### Убираем из датасета колонки, не содержащую такую информацию, а также те колонки, которые повторяются или с одинаковыми показателями, но с разными единицами измерения"
   ]
  },
  {
   "cell_type": "code",
   "execution_count": 4,
   "metadata": {},
   "outputs": [
    {
     "data": {
      "text/plain": [
       "Index(['Код товара', 'Старый код', 'Наименование товара ENG',\n",
       "       'Наименование товара', 'Food/HPC', 'Подкатегория', 'Категория',\n",
       "       'Маркет', 'Бренд', 'Сектор', 'Бренд Вариант', 'СабБренд',\n",
       "       'Код Бейспака', 'Наименование Бейспака', 'DFG', 'Наименование DFG',\n",
       "       'Шт в Коробе', 'Шт в Коробе.1', 'Вес ШТ нетто (г)',\n",
       "       'Вес Короба нетто (кг)', 'Коробов на Паллете', 'Вес Паллеты нетто (кг)',\n",
       "       'Вес Паллеты брутто (кг)', 'Высота Паллеты (мм)', 'ШТ на Паллете',\n",
       "       'Коробов в слое', 'Слоев на Паллете', 'Срок Годности, дней', 'EAN ШТ',\n",
       "       'EAN Короба', 'Штрихкод Паллеты RU', 'Штрихкод Паллеты UA',\n",
       "       'Вес Короба брутто (г)', 'Вес Короба брутто (кг)', 'Длина короба (мм)',\n",
       "       'Ширина короба (мм)', 'Высота короба (мм)', 'Плотность короба',\n",
       "       'Вес ШТ брутто (г)', 'Вес ШТ брутто (кг)', 'Длина ШТ (мм)',\n",
       "       'Ширина ШТ (мм)', 'Высота ШТ (мм)', 'Плотность ШТ', 'АВС индикатор',\n",
       "       'Промо статус', 'Страна происхождения', 'Код Товара', 'Категория.1',\n",
       "       'ULKL', 'Market', 'CBU Code', 'CBU Name En', 'CBU Long Name Ru',\n",
       "       'Basepack APO', 'Basepack Name APO', 'FS', 'RUCoC', 'UACoC',\n",
       "       'Pal_Length', 'Pal_Width', 'CS_Volume', 'PC_Volume', 'TEMPB', 'VolL',\n",
       "       'CBU Code.1', 'CorporateProductGrouping', 'CBU Short Name Ru',\n",
       "       'Short Name Ru', 'RUStatus', 'UAStatus', 'Вложимость в трей', 'НДС РФ',\n",
       "       'Ветподнадзорность', 'ТН ВЭД', 'Вложимость в брикет',\n",
       "       'Штрих код брикета', 'Вес брикета (кг)', 'Высота брикета, мм',\n",
       "       'Длинна брикета, мм', 'Ширина брикета, мм', 'MatDescUA',\n",
       "       'MaterialGroup2'],\n",
       "      dtype='object')"
      ]
     },
     "execution_count": 4,
     "metadata": {},
     "output_type": "execute_result"
    }
   ],
   "source": [
    "data.columns"
   ]
  },
  {
   "cell_type": "code",
   "execution_count": 5,
   "metadata": {},
   "outputs": [],
   "source": [
    "drop_columns = ['Код товара', 'Старый код', 'Наименование товара ENG',\n",
    "                'Наименование товара', 'Food/HPC', 'Подкатегория', 'Категория',\n",
    "                'Маркет', 'Бренд', 'Сектор', 'Бренд Вариант', 'СабБренд',\n",
    "                'Наименование Бейспака', 'DFG', 'Наименование DFG',\n",
    "                'Срок Годности, дней', 'EAN ШТ', 'EAN Короба', 'Штрихкод Паллеты RU', 'Штрихкод Паллеты UA',\n",
    "                'АВС индикатор',  'Промо статус', 'Страна происхождения', 'CBU Name En', 'CBU Long Name Ru',\n",
    "                'CorporateProductGrouping', 'CBU Short Name Ru', \n",
    "                'Short Name Ru', 'RUStatus', 'UAStatus', 'НДС РФ', 'MatDescUA',\n",
    "                'MaterialGroup2', 'Шт в Коробе.1', 'Категория.1',\n",
    "                'Вес Короба брутто (г)', 'Вес ШТ брутто (г)',\n",
    "                'Вес брикета (кг)', 'Высота брикета, мм', 'Длинна брикета, мм', 'Ширина брикета, мм', \n",
    "                'Код Бейспака', 'Код Товара', 'ULKL', 'Market', 'CBU Code', 'Basepack APO', 'Basepack Name APO', 'FS',\n",
    "                'RUCoC', 'UACoC', 'TEMPB', 'VolL', 'CBU Code.1', 'Вложимость в трей', 'Ветподнадзорность',\n",
    "                'ТН ВЭД', 'Вложимость в брикет', 'Штрих код брикета']"
   ]
  },
  {
   "cell_type": "markdown",
   "metadata": {},
   "source": [
    "## Убираем колонки и первые две строчки с бесполезной информацией"
   ]
  },
  {
   "cell_type": "code",
   "execution_count": 6,
   "metadata": {},
   "outputs": [],
   "source": [
    "data = data.drop(drop_columns, axis=1)\n",
    "data = data[2:]"
   ]
  },
  {
   "cell_type": "code",
   "execution_count": 7,
   "metadata": {},
   "outputs": [
    {
     "data": {
      "text/plain": [
       "Index(['Шт в Коробе', 'Вес ШТ нетто (г)', 'Вес Короба нетто (кг)',\n",
       "       'Коробов на Паллете', 'Вес Паллеты нетто (кг)',\n",
       "       'Вес Паллеты брутто (кг)', 'Высота Паллеты (мм)', 'ШТ на Паллете',\n",
       "       'Коробов в слое', 'Слоев на Паллете', 'Вес Короба брутто (кг)',\n",
       "       'Длина короба (мм)', 'Ширина короба (мм)', 'Высота короба (мм)',\n",
       "       'Плотность короба', 'Вес ШТ брутто (кг)', 'Длина ШТ (мм)',\n",
       "       'Ширина ШТ (мм)', 'Высота ШТ (мм)', 'Плотность ШТ', 'Pal_Length',\n",
       "       'Pal_Width', 'CS_Volume', 'PC_Volume'],\n",
       "      dtype='object')"
      ]
     },
     "execution_count": 7,
     "metadata": {},
     "output_type": "execute_result"
    }
   ],
   "source": [
    "data.columns"
   ]
  },
  {
   "cell_type": "code",
   "execution_count": 8,
   "metadata": {},
   "outputs": [
    {
     "data": {
      "text/plain": [
       "(2393, 24)"
      ]
     },
     "execution_count": 8,
     "metadata": {},
     "output_type": "execute_result"
    }
   ],
   "source": [
    "data.shape"
   ]
  },
  {
   "cell_type": "code",
   "execution_count": 9,
   "metadata": {},
   "outputs": [
    {
     "name": "stdout",
     "output_type": "stream",
     "text": [
      "Шт в Коробе (33,)\n",
      "Вес ШТ нетто (г) (641,)\n",
      "Вес Короба нетто (кг) (738,)\n",
      "Коробов на Паллете (166,)\n",
      "Вес Паллеты нетто (кг) (953,)\n",
      "Вес Паллеты брутто (кг) (987,)\n",
      "Высота Паллеты (мм) (351,)\n",
      "ШТ на Паллете (218,)\n",
      "Коробов в слое (66,)\n",
      "Слоев на Паллете (20,)\n",
      "Вес Короба брутто (кг) (814,)\n",
      "Длина короба (мм) (214,)\n",
      "Ширина короба (мм) (169,)\n",
      "Высота короба (мм) (185,)\n",
      "Плотность короба (1047,)\n",
      "Вес ШТ брутто (кг) (680,)\n",
      "Длина ШТ (мм) (130,)\n",
      "Ширина ШТ (мм) (116,)\n",
      "Высота ШТ (мм) (195,)\n",
      "Плотность ШТ (998,)\n",
      "Pal_Length (10,)\n",
      "Pal_Width (10,)\n",
      "CS_Volume (497,)\n",
      "PC_Volume (482,)\n"
     ]
    }
   ],
   "source": [
    "for col in data.columns:\n",
    "    print(col, data[col].unique().shape)"
   ]
  },
  {
   "cell_type": "code",
   "execution_count": 10,
   "metadata": {},
   "outputs": [],
   "source": [
    "for col in data.columns:\n",
    "    try:\n",
    "        data[col] = data[col].astype('float64')\n",
    "    except:\n",
    "        print(col)"
   ]
  },
  {
   "cell_type": "code",
   "execution_count": 11,
   "metadata": {},
   "outputs": [],
   "source": [
    "# преобразуем колонку с массами в граммах в колонку с массами в килограммах \n",
    "data['Вес ШТ нетто (г)'] = data['Вес ШТ нетто (г)']/1000\n",
    "data = data.rename(columns={'Вес ШТ нетто (г)':'Вес ШТ нетто (кг)'})"
   ]
  },
  {
   "cell_type": "code",
   "execution_count": 12,
   "metadata": {
    "scrolled": true
   },
   "outputs": [],
   "source": [
    "V_diff = data['Pal_Length']*data['Pal_Width']*data['Высота Паллеты (мм)'] - data['CS_Volume']*data['Коробов на Паллете']*1000"
   ]
  },
  {
   "cell_type": "code",
   "execution_count": 13,
   "metadata": {},
   "outputs": [],
   "source": [
    "data['V_diff'] = V_diff"
   ]
  },
  {
   "cell_type": "code",
   "execution_count": 14,
   "metadata": {
    "scrolled": true
   },
   "outputs": [
    {
     "data": {
      "text/plain": [
       "Int64Index([ 660, 2265, 2227, 2228, 2263, 1194,  108, 2304, 2284, 2308,\n",
       "            ...\n",
       "             852, 1505,  994,  686, 2260,  658, 1095, 1918, 1837, 1344],\n",
       "           dtype='int64', length=2393)"
      ]
     },
     "execution_count": 14,
     "metadata": {},
     "output_type": "execute_result"
    }
   ],
   "source": [
    "not_opt_index = data['V_diff'].sort_values().index\n",
    "not_opt_index"
   ]
  },
  {
   "cell_type": "code",
   "execution_count": 15,
   "metadata": {},
   "outputs": [
    {
     "data": {
      "text/html": [
       "<div>\n",
       "<style scoped>\n",
       "    .dataframe tbody tr th:only-of-type {\n",
       "        vertical-align: middle;\n",
       "    }\n",
       "\n",
       "    .dataframe tbody tr th {\n",
       "        vertical-align: top;\n",
       "    }\n",
       "\n",
       "    .dataframe thead th {\n",
       "        text-align: right;\n",
       "    }\n",
       "</style>\n",
       "<table border=\"1\" class=\"dataframe\">\n",
       "  <thead>\n",
       "    <tr style=\"text-align: right;\">\n",
       "      <th></th>\n",
       "      <th>Код товара</th>\n",
       "      <th>Старый код</th>\n",
       "      <th>Наименование товара ENG</th>\n",
       "      <th>Наименование товара</th>\n",
       "      <th>Food/HPC</th>\n",
       "      <th>Подкатегория</th>\n",
       "      <th>Категория</th>\n",
       "      <th>Маркет</th>\n",
       "      <th>Бренд</th>\n",
       "      <th>Сектор</th>\n",
       "      <th>...</th>\n",
       "      <th>Ветподнадзорность</th>\n",
       "      <th>ТН ВЭД</th>\n",
       "      <th>Вложимость в брикет</th>\n",
       "      <th>Штрих код брикета</th>\n",
       "      <th>Вес брикета (кг)</th>\n",
       "      <th>Высота брикета, мм</th>\n",
       "      <th>Длинна брикета, мм</th>\n",
       "      <th>Ширина брикета, мм</th>\n",
       "      <th>MatDescUA</th>\n",
       "      <th>MaterialGroup2</th>\n",
       "    </tr>\n",
       "  </thead>\n",
       "  <tbody>\n",
       "    <tr>\n",
       "      <th>852</th>\n",
       "      <td>67066727</td>\n",
       "      <td>NaN</td>\n",
       "      <td>BED HEAD SH PRPL TNN DMB BL 15 12X400ML</td>\n",
       "      <td>BED HEAD ШАМПУНЬ-КОРРЕКТОР ЦВЕТА 12Х400МЛ</td>\n",
       "      <td>BEAUTY &amp; PERSONAL CARE</td>\n",
       "      <td>BEAUTY &amp; PERSONAL CARE EXCL SKIN</td>\n",
       "      <td>HAIR CARE</td>\n",
       "      <td>WASH &amp; CARE</td>\n",
       "      <td>BED HEAD</td>\n",
       "      <td>SHAMPOO/2IN1</td>\n",
       "      <td>...</td>\n",
       "      <td>NaN</td>\n",
       "      <td>3305100000</td>\n",
       "      <td>NaN</td>\n",
       "      <td>NaN</td>\n",
       "      <td>0</td>\n",
       "      <td>0</td>\n",
       "      <td>0</td>\n",
       "      <td>0</td>\n",
       "      <td>BED HEAD PURPLE TONING SHAMPOO DUMB BLONDE 12X...</td>\n",
       "      <td>CLEANER</td>\n",
       "    </tr>\n",
       "    <tr>\n",
       "      <th>1505</th>\n",
       "      <td>67309690</td>\n",
       "      <td>NaN</td>\n",
       "      <td>BED HEAD COND CALMA SUTRA 12X375ML</td>\n",
       "      <td>BED HEAD ОЧИЩАЮЩИЙ КОНДИЦИОНЕР ДЛЯ КО-ВОШИНГА ...</td>\n",
       "      <td>BEAUTY &amp; PERSONAL CARE</td>\n",
       "      <td>BEAUTY &amp; PERSONAL CARE EXCL SKIN</td>\n",
       "      <td>HAIR CARE</td>\n",
       "      <td>WASH &amp; CARE</td>\n",
       "      <td>BED HEAD</td>\n",
       "      <td>CONDITIONER</td>\n",
       "      <td>...</td>\n",
       "      <td>NaN</td>\n",
       "      <td>3305900009</td>\n",
       "      <td>NaN</td>\n",
       "      <td>NaN</td>\n",
       "      <td>0</td>\n",
       "      <td>0</td>\n",
       "      <td>0</td>\n",
       "      <td>0</td>\n",
       "      <td>BED HEAD CLEANSING CONDITIONER FOR WAVES AND C...</td>\n",
       "      <td>CLEANER</td>\n",
       "    </tr>\n",
       "    <tr>\n",
       "      <th>994</th>\n",
       "      <td>67086713</td>\n",
       "      <td>NaN</td>\n",
       "      <td>CLEAR SH INTENSE HYDRATION 16 12X400ML</td>\n",
       "      <td>CLEAR ШАМПУНЬ ПРОТИВ ПЕРХОТИ ИНТЕНСИВНОЕ УВЛАЖ...</td>\n",
       "      <td>BEAUTY &amp; PERSONAL CARE</td>\n",
       "      <td>BEAUTY &amp; PERSONAL CARE EXCL SKIN</td>\n",
       "      <td>HAIR CARE</td>\n",
       "      <td>WASH &amp; CARE</td>\n",
       "      <td>CLEAR</td>\n",
       "      <td>SHAMPOO/2IN1</td>\n",
       "      <td>...</td>\n",
       "      <td>NaN</td>\n",
       "      <td>NaN</td>\n",
       "      <td>NaN</td>\n",
       "      <td>NaN</td>\n",
       "      <td>0</td>\n",
       "      <td>0</td>\n",
       "      <td>0</td>\n",
       "      <td>0</td>\n",
       "      <td>CLEAR ШАМПУНЬ VITA ABE ПРОТИ ЛУПИ ДЛЯ ЖІНОК ІН...</td>\n",
       "      <td>CLEANER</td>\n",
       "    </tr>\n",
       "    <tr>\n",
       "      <th>686</th>\n",
       "      <td>67016250</td>\n",
       "      <td>NaN</td>\n",
       "      <td>S FACTOR LEAVE-IN MOISTURE SPRAY 6Х250ML</td>\n",
       "      <td>S FACTOR НЕСМЫВАЕМЫЙ СПРЕЙ-УХОД ДЛЯ ВОЛОС PAPA...</td>\n",
       "      <td>BEAUTY &amp; PERSONAL CARE</td>\n",
       "      <td>BEAUTY &amp; PERSONAL CARE EXCL SKIN</td>\n",
       "      <td>HAIR CARE</td>\n",
       "      <td>STYLING</td>\n",
       "      <td>S-FACTOR</td>\n",
       "      <td>SOFT STYLING</td>\n",
       "      <td>...</td>\n",
       "      <td>NaN</td>\n",
       "      <td>3305900009</td>\n",
       "      <td>NaN</td>\n",
       "      <td>NaN</td>\n",
       "      <td>0</td>\n",
       "      <td>0</td>\n",
       "      <td>0</td>\n",
       "      <td>0</td>\n",
       "      <td>S FACTOR PAPAYA LEAVE-IN MOISTURE SPRAY 6Х250ML</td>\n",
       "      <td>AEROSOLS</td>\n",
       "    </tr>\n",
       "    <tr>\n",
       "      <th>2260</th>\n",
       "      <td>67686977</td>\n",
       "      <td>NaN</td>\n",
       "      <td>BED HEAD FOR MEN FACE UP GFT PCK 6X275ML</td>\n",
       "      <td>BED HEAD FOR MEN НАБОР ГЛАДКИЙ Я 6X275МЛ</td>\n",
       "      <td>BEAUTY &amp; PERSONAL CARE</td>\n",
       "      <td>BEAUTY &amp; PERSONAL CARE EXCL SKIN</td>\n",
       "      <td>HAIR CARE</td>\n",
       "      <td>STYLING</td>\n",
       "      <td>BED HEAD</td>\n",
       "      <td>SOFT STYLING</td>\n",
       "      <td>...</td>\n",
       "      <td>NaN</td>\n",
       "      <td>NaN</td>\n",
       "      <td>NaN</td>\n",
       "      <td>NaN</td>\n",
       "      <td>0</td>\n",
       "      <td>0</td>\n",
       "      <td>0</td>\n",
       "      <td>0</td>\n",
       "      <td>BED HEAD FOR MEN FACE UP GIFT PACK 6X275ML</td>\n",
       "      <td>COSMETIC</td>\n",
       "    </tr>\n",
       "    <tr>\n",
       "      <th>658</th>\n",
       "      <td>67001534</td>\n",
       "      <td>NaN</td>\n",
       "      <td>S FACTOR CONDITIONER SERIOUS 6Х150ML</td>\n",
       "      <td>TIGI S FACTOR ИНТЕНСИВНЫЙ КОНДИЦИОНЕР ДЛЯ ВОЛО...</td>\n",
       "      <td>BEAUTY &amp; PERSONAL CARE</td>\n",
       "      <td>BEAUTY &amp; PERSONAL CARE EXCL SKIN</td>\n",
       "      <td>HAIR CARE</td>\n",
       "      <td>WASH &amp; CARE</td>\n",
       "      <td>S-FACTOR</td>\n",
       "      <td>CONDITIONER</td>\n",
       "      <td>...</td>\n",
       "      <td>NaN</td>\n",
       "      <td>3305900009</td>\n",
       "      <td>NaN</td>\n",
       "      <td>NaN</td>\n",
       "      <td>0</td>\n",
       "      <td>0</td>\n",
       "      <td>0</td>\n",
       "      <td>0</td>\n",
       "      <td>S FACTOR SERIOUS CONDITIONER 150ML</td>\n",
       "      <td>CLEANER</td>\n",
       "    </tr>\n",
       "    <tr>\n",
       "      <th>1095</th>\n",
       "      <td>67109751</td>\n",
       "      <td>NaN</td>\n",
       "      <td>REXONA MEN AP ST ANTIBACTRL FRESH 6X50ML</td>\n",
       "      <td>REXONA MEN АНТИПЕРСПИРАНТ КАРАНДАШ АНТИБАКТЕРИ...</td>\n",
       "      <td>BEAUTY &amp; PERSONAL CARE</td>\n",
       "      <td>BEAUTY &amp; PERSONAL CARE EXCL SKIN</td>\n",
       "      <td>DEODORANTS &amp; FRAGRANCES</td>\n",
       "      <td>DEODORANTS</td>\n",
       "      <td>REXONA MEN</td>\n",
       "      <td>DEO SOLID STICKS</td>\n",
       "      <td>...</td>\n",
       "      <td>NaN</td>\n",
       "      <td>3307200000</td>\n",
       "      <td>NaN</td>\n",
       "      <td>NaN</td>\n",
       "      <td>0</td>\n",
       "      <td>0</td>\n",
       "      <td>0</td>\n",
       "      <td>0</td>\n",
       "      <td>REXONA MEN АНТИПЕРСПІРАНТ-ОЛІВЕЦЬ АНТИБАКТЕРІА...</td>\n",
       "      <td>DEOR&amp;ST</td>\n",
       "    </tr>\n",
       "    <tr>\n",
       "      <th>1918</th>\n",
       "      <td>67523521</td>\n",
       "      <td>NaN</td>\n",
       "      <td>PURE LINE BSC CR SHGEL MST&amp;CARE 12X400ML</td>\n",
       "      <td>ОСНОВНОЙ УХОД ЧИСТАЯ ЛИНИЯ ГЕЛЬ ДЛЯ ДУША УВЛАЖ...</td>\n",
       "      <td>BEAUTY &amp; PERSONAL CARE</td>\n",
       "      <td>SKIN</td>\n",
       "      <td>SKIN CLEANSING</td>\n",
       "      <td>SKIN CLEANSING</td>\n",
       "      <td>PURE LINE</td>\n",
       "      <td>SHOWER</td>\n",
       "      <td>...</td>\n",
       "      <td>NaN</td>\n",
       "      <td>3401300000</td>\n",
       "      <td>NaN</td>\n",
       "      <td>NaN</td>\n",
       "      <td>0</td>\n",
       "      <td>0</td>\n",
       "      <td>0</td>\n",
       "      <td>0</td>\n",
       "      <td>ОСНОВНОЙ УХОД ЧИСТАЯ ЛИНИЯ ГЕЛЬ ДЛЯ ДУША УВЛАЖ...</td>\n",
       "      <td>CLEANER</td>\n",
       "    </tr>\n",
       "    <tr>\n",
       "      <th>1837</th>\n",
       "      <td>67486434</td>\n",
       "      <td>NaN</td>\n",
       "      <td>SILKY HANDS CREAM-SOAP TENDERNESS 24X90G</td>\n",
       "      <td>БАРХАТНЫЕ РУЧКИ КРЕМ-МЫЛО НЕЖНОСТЬ И УХОД 24Х90Г</td>\n",
       "      <td>BEAUTY &amp; PERSONAL CARE</td>\n",
       "      <td>SKIN</td>\n",
       "      <td>SKIN CLEANSING</td>\n",
       "      <td>SKIN CLEANSING</td>\n",
       "      <td>SILKY HANDS</td>\n",
       "      <td>SKIN CLEANSING BAR</td>\n",
       "      <td>...</td>\n",
       "      <td>NaN</td>\n",
       "      <td>3401110001</td>\n",
       "      <td>NaN</td>\n",
       "      <td>NaN</td>\n",
       "      <td>0</td>\n",
       "      <td>0</td>\n",
       "      <td>0</td>\n",
       "      <td>0</td>\n",
       "      <td>БАРХАТНЫЕ РУЧКИ КРЕМ-МЫЛО НЕЖНОСТЬ И УХОД 24Х90Г</td>\n",
       "      <td>SOAPTAB</td>\n",
       "    </tr>\n",
       "    <tr>\n",
       "      <th>1344</th>\n",
       "      <td>67228132</td>\n",
       "      <td>NaN</td>\n",
       "      <td>FOREST BALM MW TR EFFECT WHITEN 12X370ML</td>\n",
       "      <td>ЛЕСНОЙ БАЛЬЗАМ ОПОЛАСКИВАТЕЛЬ ДЛЯ ДЕСЕН И ЗУБО...</td>\n",
       "      <td>BEAUTY &amp; PERSONAL CARE</td>\n",
       "      <td>BEAUTY &amp; PERSONAL CARE EXCL SKIN</td>\n",
       "      <td>ORAL CARE</td>\n",
       "      <td>MOUTHWASH &amp; OTHER ORAL</td>\n",
       "      <td>FOREST BALSAM</td>\n",
       "      <td>MOUTHWASH</td>\n",
       "      <td>...</td>\n",
       "      <td>NaN</td>\n",
       "      <td>3306900000</td>\n",
       "      <td>NaN</td>\n",
       "      <td>NaN</td>\n",
       "      <td>0</td>\n",
       "      <td>0</td>\n",
       "      <td>0</td>\n",
       "      <td>0</td>\n",
       "      <td>FOREST BALM MOUTHWASH TRIPLE EFFECT WHITENING ...</td>\n",
       "      <td>CLEANER</td>\n",
       "    </tr>\n",
       "  </tbody>\n",
       "</table>\n",
       "<p>10 rows × 83 columns</p>\n",
       "</div>"
      ],
      "text/plain": [
       "     Код товара Старый код                   Наименование товара ENG  \\\n",
       "852    67066727        NaN   BED HEAD SH PRPL TNN DMB BL 15 12X400ML   \n",
       "1505   67309690        NaN        BED HEAD COND CALMA SUTRA 12X375ML   \n",
       "994    67086713        NaN    CLEAR SH INTENSE HYDRATION 16 12X400ML   \n",
       "686    67016250        NaN  S FACTOR LEAVE-IN MOISTURE SPRAY 6Х250ML   \n",
       "2260   67686977        NaN  BED HEAD FOR MEN FACE UP GFT PCK 6X275ML   \n",
       "658    67001534        NaN      S FACTOR CONDITIONER SERIOUS 6Х150ML   \n",
       "1095   67109751        NaN  REXONA MEN AP ST ANTIBACTRL FRESH 6X50ML   \n",
       "1918   67523521        NaN  PURE LINE BSC CR SHGEL MST&CARE 12X400ML   \n",
       "1837   67486434        NaN  SILKY HANDS CREAM-SOAP TENDERNESS 24X90G   \n",
       "1344   67228132        NaN  FOREST BALM MW TR EFFECT WHITEN 12X370ML   \n",
       "\n",
       "                                    Наименование товара  \\\n",
       "852           BED HEAD ШАМПУНЬ-КОРРЕКТОР ЦВЕТА 12Х400МЛ   \n",
       "1505  BED HEAD ОЧИЩАЮЩИЙ КОНДИЦИОНЕР ДЛЯ КО-ВОШИНГА ...   \n",
       "994   CLEAR ШАМПУНЬ ПРОТИВ ПЕРХОТИ ИНТЕНСИВНОЕ УВЛАЖ...   \n",
       "686   S FACTOR НЕСМЫВАЕМЫЙ СПРЕЙ-УХОД ДЛЯ ВОЛОС PAPA...   \n",
       "2260           BED HEAD FOR MEN НАБОР ГЛАДКИЙ Я 6X275МЛ   \n",
       "658   TIGI S FACTOR ИНТЕНСИВНЫЙ КОНДИЦИОНЕР ДЛЯ ВОЛО...   \n",
       "1095  REXONA MEN АНТИПЕРСПИРАНТ КАРАНДАШ АНТИБАКТЕРИ...   \n",
       "1918  ОСНОВНОЙ УХОД ЧИСТАЯ ЛИНИЯ ГЕЛЬ ДЛЯ ДУША УВЛАЖ...   \n",
       "1837   БАРХАТНЫЕ РУЧКИ КРЕМ-МЫЛО НЕЖНОСТЬ И УХОД 24Х90Г   \n",
       "1344  ЛЕСНОЙ БАЛЬЗАМ ОПОЛАСКИВАТЕЛЬ ДЛЯ ДЕСЕН И ЗУБО...   \n",
       "\n",
       "                    Food/HPC                      Подкатегория  \\\n",
       "852   BEAUTY & PERSONAL CARE  BEAUTY & PERSONAL CARE EXCL SKIN   \n",
       "1505  BEAUTY & PERSONAL CARE  BEAUTY & PERSONAL CARE EXCL SKIN   \n",
       "994   BEAUTY & PERSONAL CARE  BEAUTY & PERSONAL CARE EXCL SKIN   \n",
       "686   BEAUTY & PERSONAL CARE  BEAUTY & PERSONAL CARE EXCL SKIN   \n",
       "2260  BEAUTY & PERSONAL CARE  BEAUTY & PERSONAL CARE EXCL SKIN   \n",
       "658   BEAUTY & PERSONAL CARE  BEAUTY & PERSONAL CARE EXCL SKIN   \n",
       "1095  BEAUTY & PERSONAL CARE  BEAUTY & PERSONAL CARE EXCL SKIN   \n",
       "1918  BEAUTY & PERSONAL CARE                              SKIN   \n",
       "1837  BEAUTY & PERSONAL CARE                              SKIN   \n",
       "1344  BEAUTY & PERSONAL CARE  BEAUTY & PERSONAL CARE EXCL SKIN   \n",
       "\n",
       "                    Категория                  Маркет          Бренд  \\\n",
       "852                 HAIR CARE             WASH & CARE       BED HEAD   \n",
       "1505                HAIR CARE             WASH & CARE       BED HEAD   \n",
       "994                 HAIR CARE             WASH & CARE          CLEAR   \n",
       "686                 HAIR CARE                 STYLING       S-FACTOR   \n",
       "2260                HAIR CARE                 STYLING       BED HEAD   \n",
       "658                 HAIR CARE             WASH & CARE       S-FACTOR   \n",
       "1095  DEODORANTS & FRAGRANCES              DEODORANTS     REXONA MEN   \n",
       "1918           SKIN CLEANSING          SKIN CLEANSING      PURE LINE   \n",
       "1837           SKIN CLEANSING          SKIN CLEANSING    SILKY HANDS   \n",
       "1344                ORAL CARE  MOUTHWASH & OTHER ORAL  FOREST BALSAM   \n",
       "\n",
       "                  Сектор  ... Ветподнадзорность      ТН ВЭД  \\\n",
       "852         SHAMPOO/2IN1  ...               NaN  3305100000   \n",
       "1505         CONDITIONER  ...               NaN  3305900009   \n",
       "994         SHAMPOO/2IN1  ...               NaN         NaN   \n",
       "686         SOFT STYLING  ...               NaN  3305900009   \n",
       "2260        SOFT STYLING  ...               NaN         NaN   \n",
       "658          CONDITIONER  ...               NaN  3305900009   \n",
       "1095    DEO SOLID STICKS  ...               NaN  3307200000   \n",
       "1918              SHOWER  ...               NaN  3401300000   \n",
       "1837  SKIN CLEANSING BAR  ...               NaN  3401110001   \n",
       "1344           MOUTHWASH  ...               NaN  3306900000   \n",
       "\n",
       "     Вложимость в брикет Штрих код брикета Вес брикета (кг)  \\\n",
       "852                  NaN               NaN                0   \n",
       "1505                 NaN               NaN                0   \n",
       "994                  NaN               NaN                0   \n",
       "686                  NaN               NaN                0   \n",
       "2260                 NaN               NaN                0   \n",
       "658                  NaN               NaN                0   \n",
       "1095                 NaN               NaN                0   \n",
       "1918                 NaN               NaN                0   \n",
       "1837                 NaN               NaN                0   \n",
       "1344                 NaN               NaN                0   \n",
       "\n",
       "     Высота брикета, мм Длинна брикета, мм Ширина брикета, мм  \\\n",
       "852                   0                  0                  0   \n",
       "1505                  0                  0                  0   \n",
       "994                   0                  0                  0   \n",
       "686                   0                  0                  0   \n",
       "2260                  0                  0                  0   \n",
       "658                   0                  0                  0   \n",
       "1095                  0                  0                  0   \n",
       "1918                  0                  0                  0   \n",
       "1837                  0                  0                  0   \n",
       "1344                  0                  0                  0   \n",
       "\n",
       "                                              MatDescUA MaterialGroup2  \n",
       "852   BED HEAD PURPLE TONING SHAMPOO DUMB BLONDE 12X...        CLEANER  \n",
       "1505  BED HEAD CLEANSING CONDITIONER FOR WAVES AND C...        CLEANER  \n",
       "994   CLEAR ШАМПУНЬ VITA ABE ПРОТИ ЛУПИ ДЛЯ ЖІНОК ІН...        CLEANER  \n",
       "686     S FACTOR PAPAYA LEAVE-IN MOISTURE SPRAY 6Х250ML       AEROSOLS  \n",
       "2260         BED HEAD FOR MEN FACE UP GIFT PACK 6X275ML       COSMETIC  \n",
       "658                  S FACTOR SERIOUS CONDITIONER 150ML        CLEANER  \n",
       "1095  REXONA MEN АНТИПЕРСПІРАНТ-ОЛІВЕЦЬ АНТИБАКТЕРІА...        DEOR&ST  \n",
       "1918  ОСНОВНОЙ УХОД ЧИСТАЯ ЛИНИЯ ГЕЛЬ ДЛЯ ДУША УВЛАЖ...        CLEANER  \n",
       "1837   БАРХАТНЫЕ РУЧКИ КРЕМ-МЫЛО НЕЖНОСТЬ И УХОД 24Х90Г        SOAPTAB  \n",
       "1344  FOREST BALM MOUTHWASH TRIPLE EFFECT WHITENING ...        CLEANER  \n",
       "\n",
       "[10 rows x 83 columns]"
      ]
     },
     "execution_count": 15,
     "metadata": {},
     "output_type": "execute_result"
    }
   ],
   "source": [
    "orig_data.loc[not_opt_index][-10:]"
   ]
  },
  {
   "cell_type": "code",
   "execution_count": 16,
   "metadata": {},
   "outputs": [
    {
     "data": {
      "text/plain": [
       "852             BED HEAD ШАМПУНЬ-КОРРЕКТОР ЦВЕТА 12Х400МЛ\n",
       "1505    BED HEAD ОЧИЩАЮЩИЙ КОНДИЦИОНЕР ДЛЯ КО-ВОШИНГА ...\n",
       "994     CLEAR ШАМПУНЬ ПРОТИВ ПЕРХОТИ ИНТЕНСИВНОЕ УВЛАЖ...\n",
       "686     S FACTOR НЕСМЫВАЕМЫЙ СПРЕЙ-УХОД ДЛЯ ВОЛОС PAPA...\n",
       "2260             BED HEAD FOR MEN НАБОР ГЛАДКИЙ Я 6X275МЛ\n",
       "658     TIGI S FACTOR ИНТЕНСИВНЫЙ КОНДИЦИОНЕР ДЛЯ ВОЛО...\n",
       "1095    REXONA MEN АНТИПЕРСПИРАНТ КАРАНДАШ АНТИБАКТЕРИ...\n",
       "1918    ОСНОВНОЙ УХОД ЧИСТАЯ ЛИНИЯ ГЕЛЬ ДЛЯ ДУША УВЛАЖ...\n",
       "1837     БАРХАТНЫЕ РУЧКИ КРЕМ-МЫЛО НЕЖНОСТЬ И УХОД 24Х90Г\n",
       "1344    ЛЕСНОЙ БАЛЬЗАМ ОПОЛАСКИВАТЕЛЬ ДЛЯ ДЕСЕН И ЗУБО...\n",
       "Name: Наименование товара, dtype: object"
      ]
     },
     "execution_count": 16,
     "metadata": {},
     "output_type": "execute_result"
    }
   ],
   "source": [
    "orig_data.loc[not_opt_index][-10:]['Наименование товара']"
   ]
  },
  {
   "cell_type": "markdown",
   "metadata": {},
   "source": [
    "# Самые не оптимальные паллетизации"
   ]
  },
  {
   "cell_type": "code",
   "execution_count": 17,
   "metadata": {},
   "outputs": [
    {
     "data": {
      "text/plain": [
       "(0, (2393,))"
      ]
     },
     "execution_count": 17,
     "metadata": {},
     "output_type": "execute_result"
    }
   ],
   "source": [
    "data['V_diff'].isna().sum(), data['V_diff'].shape"
   ]
  },
  {
   "cell_type": "code",
   "execution_count": 18,
   "metadata": {},
   "outputs": [
    {
     "data": {
      "image/png": "[encoded data removed]",
      "text/plain": [
       "<Figure size 720x720 with 1 Axes>"
      ]
     },
     "metadata": {
      "needs_background": "light"
     },
     "output_type": "display_data"
    }
   ],
   "source": [
    "import matplotlib.pyplot as plt\n",
    "%matplotlib inline\n",
    "plt.figure(1, figsize=(10,10))\n",
    "num_bins = data['Шт в Коробе'].sort_values().unique()\n",
    "plt.hist(data['Шт в Коробе'], num_bins)\n",
    "plt.axis([0, 50, 0, 1000])\n",
    "plt.show()"
   ]
  },
  {
   "cell_type": "markdown",
   "metadata": {},
   "source": [
    "### Убираем из датасета примеры, не проходящие ограничения задачи по \"идеальной\" паллетизации"
   ]
  },
  {
   "cell_type": "code",
   "execution_count": 19,
   "metadata": {},
   "outputs": [
    {
     "name": "stderr",
     "output_type": "stream",
     "text": [
      "C:\\Users\\EGOR\\Anaconda3\\envs\\Deep learning\\lib\\site-packages\\ipykernel_launcher.py:1: UserWarning: Boolean Series key will be reindexed to match DataFrame index.\n",
      "  \"\"\"Entry point for launching an IPython kernel.\n"
     ]
    }
   ],
   "source": [
    "data = data[data['Шт в Коробе'] <=20][data['Шт в Коробе'] >= 10][data['Вес Короба брутто (кг)'] <= 15]"
   ]
  },
  {
   "cell_type": "code",
   "execution_count": 20,
   "metadata": {
    "scrolled": true
   },
   "outputs": [
    {
     "name": "stderr",
     "output_type": "stream",
     "text": [
      "C:\\Users\\EGOR\\Anaconda3\\envs\\Deep learning\\lib\\site-packages\\ipykernel_launcher.py:1: UserWarning: Boolean Series key will be reindexed to match DataFrame index.\n",
      "  \"\"\"Entry point for launching an IPython kernel.\n"
     ]
    }
   ],
   "source": [
    "data = data[data['Pal_Width']<=800][data['Pal_Length']<=1200][data['Вес Паллеты брутто (кг)'] <= 650]"
   ]
  },
  {
   "cell_type": "code",
   "execution_count": 21,
   "metadata": {
    "scrolled": true
   },
   "outputs": [],
   "source": [
    "data = data[data['Высота Паллеты (мм)'] <= 1800]"
   ]
  },
  {
   "cell_type": "code",
   "execution_count": 22,
   "metadata": {
    "scrolled": true
   },
   "outputs": [
    {
     "data": {
      "text/plain": [
       "Вес Паллеты нетто (кг)     0.198054\n",
       "Высота ШТ (мм)             0.185595\n",
       "Вес Паллеты брутто (кг)    0.147431\n",
       "Коробов в слое             0.142194\n",
       "Плотность короба           0.119454\n",
       "Высота короба (мм)         0.107071\n",
       "Плотность ШТ               0.014590\n",
       "Вес ШТ нетто (кг)         -0.003968\n",
       "Вес Короба нетто (кг)     -0.013011\n",
       "Вес ШТ брутто (кг)        -0.024351\n",
       "Шт в Коробе               -0.040485\n",
       "Вес Короба брутто (кг)    -0.041920\n",
       "Ширина ШТ (мм)            -0.042091\n",
       "Коробов на Паллете        -0.062913\n",
       "ШТ на Паллете             -0.067985\n",
       "Ширина короба (мм)        -0.070045\n",
       "Длина короба (мм)         -0.085426\n",
       "CS_Volume                 -0.091294\n",
       "PC_Volume                 -0.139257\n",
       "Длина ШТ (мм)             -0.179848\n",
       "Слоев на Паллете          -0.218196\n",
       "Высота Паллеты (мм)       -0.225776\n",
       "V_diff                    -1.000000\n",
       "Pal_Length                      NaN\n",
       "Pal_Width                       NaN\n",
       "Name: V_diff, dtype: float64"
      ]
     },
     "execution_count": 22,
     "metadata": {},
     "output_type": "execute_result"
    }
   ],
   "source": [
    "data.corr()['V_diff'].sort_values() *(-1)\n",
    "# здесь признаки с положительным коэффициентом корреляции означают,\n",
    "# что при увеличении одного из этих признаков ведёт к уменьшению потерь объёмов"
   ]
  },
  {
   "cell_type": "markdown",
   "metadata": {},
   "source": [
    "# PIPLINES AND GRIDSEARCHEScv\n",
    "### Подбор модели и параметров"
   ]
  },
  {
   "cell_type": "code",
   "execution_count": 37,
   "metadata": {},
   "outputs": [],
   "source": [
    "from sklearn.model_selection import train_test_split, GridSearchCV\n",
    "from sklearn.ensemble import RandomForestRegressor as rfr  # n_estimators, max_depth...\n",
    "from sklearn.ensemble import GradientBoostingRegressor as gbr  # n_estimators, max_depth...\n",
    "\n",
    "X = data.drop(columns=['V_diff'])\n",
    "y = data['V_diff']\n",
    "X_train, X_test, y_train, y_test = train_test_split(X, y, test_size=.15, random_state=30)\n",
    "\n",
    "param_grid_rfr = [\n",
    "    {\n",
    "        'n_estimators':[1,10,100,500],\n",
    "        'max_depth':[1,3,4,7],\n",
    "        'min_samples_split':[2,5,7],\n",
    "        'min_samples_leaf':[2,5,7],\n",
    "        'max_features':[4,7,9],\n",
    "        'max_leaf_nodes':[3,6,7,9],\n",
    "    }\n",
    "]\n",
    "param_grid_gbr = [\n",
    "    {\n",
    "        'n_estimators':[1,10,100,500],\n",
    "        'max_depth':[1,3,4,7],\n",
    "        'min_samples_split':[2,5,7],\n",
    "        'min_samples_leaf':[2,5,7],\n",
    "        'max_features':[4,7,9],\n",
    "        'max_leaf_nodes':[3,6,7,9],\n",
    "    }\n",
    "]"
   ]
  },
  {
   "cell_type": "code",
   "execution_count": 38,
   "metadata": {},
   "outputs": [],
   "source": [
    "grid_rfr = GridSearchCV(rfr(), param_grid_rfr, cv=6, verbose=1, n_jobs=3)\n",
    "grid_gbr = GridSearchCV(gbr(), param_grid_gbr, cv=6, verbose=1, n_jobs=3)"
   ]
  },
  {
   "cell_type": "code",
   "execution_count": 40,
   "metadata": {},
   "outputs": [
    {
     "name": "stdout",
     "output_type": "stream",
     "text": [
      "Fitting 6 folds for each of 1728 candidates, totalling 10368 fits\n"
     ]
    },
    {
     "name": "stderr",
     "output_type": "stream",
     "text": [
      "[Parallel(n_jobs=3)]: Using backend LokyBackend with 3 concurrent workers.\n",
      "[Parallel(n_jobs=3)]: Done  52 tasks      | elapsed:    6.3s\n",
      "[Parallel(n_jobs=3)]: Done 650 tasks      | elapsed:   30.4s\n",
      "[Parallel(n_jobs=3)]: Done 1650 tasks      | elapsed:  1.3min\n",
      "[Parallel(n_jobs=3)]: Done 3050 tasks      | elapsed:  2.4min\n",
      "[Parallel(n_jobs=3)]: Done 4850 tasks      | elapsed:  4.0min\n",
      "[Parallel(n_jobs=3)]: Done 7050 tasks      | elapsed:  6.0min\n",
      "[Parallel(n_jobs=3)]: Done 9650 tasks      | elapsed:  8.3min\n",
      "[Parallel(n_jobs=3)]: Done 10368 out of 10368 | elapsed:  9.2min finished\n",
      "C:\\Users\\EGOR\\Anaconda3\\envs\\Deep learning\\lib\\site-packages\\sklearn\\model_selection\\_search.py:841: DeprecationWarning: The default of the `iid` parameter will change from True to False in version 0.22 and will be removed in 0.24. This will change numeric results when test-set sizes are unequal.\n",
      "  DeprecationWarning)\n"
     ]
    },
    {
     "data": {
      "text/plain": [
       "GridSearchCV(cv=6, error_score='raise-deprecating',\n",
       "       estimator=RandomForestRegressor(bootstrap=True, criterion='mse', max_depth=None,\n",
       "           max_features='auto', max_leaf_nodes=None,\n",
       "           min_impurity_decrease=0.0, min_impurity_split=None,\n",
       "           min_samples_leaf=1, min_samples_split=2,\n",
       "           min_weight_fraction_leaf=0.0, n_estimators='warn', n_jobs=None,\n",
       "           oob_score=False, random_state=None, verbose=0, warm_start=False),\n",
       "       fit_params=None, iid='warn', n_jobs=3,\n",
       "       param_grid=[{'n_estimators': [1, 10, 100, 500], 'max_depth': [1, 3, 4, 7], 'min_samples_split': [2, 5, 7], 'min_samples_leaf': [2, 5, 7], 'max_features': [4, 7, 9], 'max_leaf_nodes': [3, 6, 7, 9]}],\n",
       "       pre_dispatch='2*n_jobs', refit=True, return_train_score='warn',\n",
       "       scoring=None, verbose=1)"
      ]
     },
     "execution_count": 40,
     "metadata": {},
     "output_type": "execute_result"
    }
   ],
   "source": [
    "grid_rfr.fit(X_train, y_train)"
   ]
  },
  {
   "cell_type": "code",
   "execution_count": 41,
   "metadata": {},
   "outputs": [
    {
     "name": "stdout",
     "output_type": "stream",
     "text": [
      "Fitting 6 folds for each of 1728 candidates, totalling 10368 fits\n"
     ]
    },
    {
     "name": "stderr",
     "output_type": "stream",
     "text": [
      "[Parallel(n_jobs=3)]: Using backend LokyBackend with 3 concurrent workers.\n",
      "[Parallel(n_jobs=3)]: Done 714 tasks      | elapsed:   11.4s\n",
      "[Parallel(n_jobs=3)]: Done 2418 tasks      | elapsed:   43.5s\n",
      "[Parallel(n_jobs=3)]: Done 4418 tasks      | elapsed:  1.4min\n",
      "[Parallel(n_jobs=3)]: Done 7218 tasks      | elapsed:  2.5min\n",
      "[Parallel(n_jobs=3)]: Done 10368 out of 10368 | elapsed:  3.7min finished\n"
     ]
    },
    {
     "data": {
      "text/plain": [
       "GridSearchCV(cv=6, error_score='raise-deprecating',\n",
       "       estimator=GradientBoostingRegressor(alpha=0.9, criterion='friedman_mse', init=None,\n",
       "             learning_rate=0.1, loss='ls', max_depth=3, max_features=None,\n",
       "             max_leaf_nodes=None, min_impurity_decrease=0.0,\n",
       "             min_impurity_split=None, min_samples_leaf=1,\n",
       "             min_sampl...=None, subsample=1.0, tol=0.0001,\n",
       "             validation_fraction=0.1, verbose=0, warm_start=False),\n",
       "       fit_params=None, iid='warn', n_jobs=3,\n",
       "       param_grid=[{'n_estimators': [1, 10, 100, 500], 'max_depth': [1, 3, 4, 7], 'min_samples_split': [2, 5, 7], 'min_samples_leaf': [2, 5, 7], 'max_features': [4, 7, 9], 'max_leaf_nodes': [3, 6, 7, 9]}],\n",
       "       pre_dispatch='2*n_jobs', refit=True, return_train_score='warn',\n",
       "       scoring=None, verbose=1)"
      ]
     },
     "execution_count": 41,
     "metadata": {},
     "output_type": "execute_result"
    }
   ],
   "source": [
    "grid_gbr.fit(X_train, y_train)"
   ]
  },
  {
   "cell_type": "code",
   "execution_count": 44,
   "metadata": {},
   "outputs": [
    {
     "data": {
      "text/plain": [
       "GradientBoostingRegressor(alpha=0.9, criterion='friedman_mse', init=None,\n",
       "             learning_rate=0.1, loss='ls', max_depth=3, max_features=9,\n",
       "             max_leaf_nodes=9, min_impurity_decrease=0.0,\n",
       "             min_impurity_split=None, min_samples_leaf=2,\n",
       "             min_samples_split=5, min_weight_fraction_leaf=0.0,\n",
       "             n_estimators=500, n_iter_no_change=None, presort='auto',\n",
       "             random_state=None, subsample=1.0, tol=0.0001,\n",
       "             validation_fraction=0.1, verbose=0, warm_start=False)"
      ]
     },
     "execution_count": 44,
     "metadata": {},
     "output_type": "execute_result"
    }
   ],
   "source": [
    "grid_gbr.best_estimator_"
   ]
  },
  {
   "cell_type": "code",
   "execution_count": 46,
   "metadata": {},
   "outputs": [
    {
     "data": {
      "text/plain": [
       "0.8707447950382273"
      ]
     },
     "execution_count": 46,
     "metadata": {},
     "output_type": "execute_result"
    }
   ],
   "source": [
    "grid_gbr.best_score_"
   ]
  },
  {
   "cell_type": "code",
   "execution_count": 49,
   "metadata": {},
   "outputs": [
    {
     "data": {
      "text/plain": [
       "RandomForestRegressor(bootstrap=True, criterion='mse', max_depth=7,\n",
       "           max_features=9, max_leaf_nodes=9, min_impurity_decrease=0.0,\n",
       "           min_impurity_split=None, min_samples_leaf=2,\n",
       "           min_samples_split=2, min_weight_fraction_leaf=0.0,\n",
       "           n_estimators=100, n_jobs=None, oob_score=False,\n",
       "           random_state=None, verbose=0, warm_start=False)"
      ]
     },
     "execution_count": 49,
     "metadata": {},
     "output_type": "execute_result"
    }
   ],
   "source": [
    "grid_rfr.best_estimator_"
   ]
  },
  {
   "cell_type": "code",
   "execution_count": 50,
   "metadata": {},
   "outputs": [
    {
     "data": {
      "text/plain": [
       "0.517904119765085"
      ]
     },
     "execution_count": 50,
     "metadata": {},
     "output_type": "execute_result"
    }
   ],
   "source": [
    "grid_rfr.best_score_"
   ]
  },
  {
   "cell_type": "code",
   "execution_count": 55,
   "metadata": {},
   "outputs": [
    {
     "name": "stdout",
     "output_type": "stream",
     "text": [
      "Train:  0.9995928793239839\n",
      "Test: 0.9172243468541282\n"
     ]
    }
   ],
   "source": [
    "best_model = gbr(alpha=0.9, criterion='friedman_mse', init=None,\n",
    "             learning_rate=0.1, loss='ls', max_depth=3, max_features=9,\n",
    "             max_leaf_nodes=9, min_impurity_decrease=0.0,\n",
    "             min_impurity_split=None, min_samples_leaf=2,\n",
    "             min_samples_split=5, min_weight_fraction_leaf=0.0,\n",
    "             n_estimators=500, n_iter_no_change=None, presort='auto',\n",
    "             random_state=None, subsample=1.0, tol=0.0001,\n",
    "             validation_fraction=0.1, verbose=0, warm_start=False)\n",
    "\n",
    "best_model.fit(X_train, y_train)\n",
    "\n",
    "print('Train: ',best_model.score(X_train, y_train))\n",
    "print('Test:', best_model.score(X_test, y_test))"
   ]
  },
  {
   "cell_type": "code",
   "execution_count": null,
   "metadata": {},
   "outputs": [],
   "source": []
  }
 ],
 "metadata": {
  "kernelspec": {
   "display_name": "Python 3",
   "language": "python",
   "name": "python3"
  },
  "language_info": {
   "codemirror_mode": {
    "name": "ipython",
    "version": 3
   },
   "file_extension": ".py",
   "mimetype": "text/x-python",
   "name": "python",
   "nbconvert_exporter": "python",
   "pygments_lexer": "ipython3",
   "version": "3.6.8"
  }
 },
 "nbformat": 4,
 "nbformat_minor": 2
}
